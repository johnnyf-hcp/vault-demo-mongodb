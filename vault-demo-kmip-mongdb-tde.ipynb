{
 "cells": [
  {
   "cell_type": "markdown",
   "metadata": {},
   "source": [
    "# HashiCorp Vault Demo for KMIP Secrets Engine and MongoDB Enterprise TDE\n",
    "\n",
    "The OASIS Key Management Interoperability Protocol (KMIP) standard is a widely adopted protocol for handling cryptographic workloads and secrets management for enterprise infrastructure such as databases, network storage, and virtual/physical servers.  When an organization has services and applications that need to perform cryptographic operations (e.g.: transparent database encryption (TDE), full disk encryption, etc.), it often delegates the key management task to an external provider via KMIP protocol. \n",
    "\n",
    "This demo demonstrates HashiCorp Vault's KMIP Secrets Engine to allow Vault to function as a KMIP server for clients that that retrieve cryptographic keys for encrypting data via the KMIP protocol.\n",
    "\n",
    "Note: MongoDB Community & Enterprise server editions have the same developer features (queries, aggregation, replication, sharding, etc).  MongoDB Enterprise Advanced adds:\n",
    "- Operational & security features (In-memory storage engine, Auditing, Kerberos & LDAP authentication, Encryption at Rest). https://www.mongodb.com/docs/manual/administration/upgrade-community-to-enterprise/\n",
    "- Entitlements to use additional tools including Ops Manager, BI Connector, and Enterprise Operator for Kubernetes.\n",
    "\n",
    "Encryption at Rest, when used in conjunction with transport encryption and good security policies that protect relevant accounts, passwords, and encryption keys, can help ensure compliance with security and privacy standards, including HIPAA, PCI-DSS, and FERPA.  Note: Encryption at Rest is offered on Enterprise Edition only. \n",
    "- https://www.mongodb.com/docs/manual/core/security-encryption-at-rest/\n",
    "\n",
    "<img src=\"images/vault-demo-kmip-mongodb-tde.png\">\n",
    "\n",
    "## Setup of the Demo\n",
    "\n",
    "This setup is tested on MacOS and is meant to simulate a distributed setup.  The components used in this demo are:\n",
    "- Vault Enterprise installed on docker (to simulate an external Vault)\n",
    "- MongoDB Enterprise installed on docker (to simulate an external MongoDB)\n",
    "- You have the Vault CLI installed\n",
    "\n",
    "This assumes your Vault server is installed using docker and already running on http://127.0.0.1:8200\n",
    "and you have set your VAULT_ADDR and VAULT_TOKEN variables.\n",
    "\n",
    "Note: You will need Vault to be installed with an ADP KMIP license add-on.  Also note that a Premium license is required if you wish the KMIP listener to scale on the Vault cluster.  For Standard or Plus license, the KMIP listener is only on the leader node.\n",
    "\n",
    "## Requirements to Run This Demo\n",
    "You will need Visual Studio Code to be installed with the Jupyter plugin.  To run this notebook in VS Code, chose the Jupyter kernel and then Bash.\n",
    "- To run the current cell, use Ctrl + Enter.\n",
    "- To run the current cell and advance to the next, use Shift+Enter."
   ]
  },
  {
   "cell_type": "markdown",
   "metadata": {},
   "source": [
    "# Setup Pre-requisites (One-time)\n",
    "\n",
    "Assumes you have docker installed and brew installed\n",
    "\n",
    "- https://docs.docker.com/desktop/install/mac-install/\n",
    "- https://brew.sh/"
   ]
  },
  {
   "cell_type": "markdown",
   "metadata": {},
   "source": [
    "# Setting up HashiCorp Vault"
   ]
  },
  {
   "cell_type": "code",
   "execution_count": null,
   "metadata": {
    "vscode": {
     "languageId": "shellscript"
    }
   },
   "outputs": [],
   "source": [
    "# Optional.  The following are some sample commands for running Vault Enterprise in docker.\n",
    "# Expose both the Vault API and the KMIP ports to the host machine.\n",
    "export VAULT_PORT=8200\n",
    "export VAULT_KMIP_PORT=5696\n",
    "export VAULT_ADDR=\"http://127.0.0.1:${VAULT_PORT}\"\n",
    "export VAULT_TOKEN=\"root\"\n",
    "# Change the path to your license file\n",
    "export VAULT_LICENSE=$(cat $HOME/vault-enterprise/vault_local/data/vault.hclic)\n",
    "docker run -d --rm --name vault-enterprise --cap-add=IPC_LOCK \\\n",
    "-e \"VAULT_DEV_ROOT_TOKEN_ID=${VAULT_TOKEN}\" \\\n",
    "-e \"VAULT_DEV_LISTEN_ADDRESS=:${VAULT_PORT}\" \\\n",
    "-e \"VAULT_LICENSE=${VAULT_LICENSE}\" \\\n",
    "-p ${VAULT_KMIP_PORT}:${VAULT_KMIP_PORT} \\\n",
    "-p ${VAULT_PORT}:${VAULT_PORT} hashicorp/vault-enterprise:latest"
   ]
  },
  {
   "cell_type": "markdown",
   "metadata": {},
   "source": [
    "# MongoDB Enterprise without Encryption at Rest\n",
    "\n",
    "Setup a demo MongoDB server.  Show that data stored is unencrypted by default."
   ]
  },
  {
   "cell_type": "code",
   "execution_count": null,
   "metadata": {
    "vscode": {
     "languageId": "shellscript"
    }
   },
   "outputs": [],
   "source": [
    "# Use latest 7.0 MongoDB Enterprise docker image.  This supports both linux/amd64 and linux/arm64\n",
    "# Ref: https://hub.docker.com/r/mongodb/mongodb-enterprise-server/tags\n",
    "export MONGODB_TAG=7.0-ubuntu2204\n",
    "export MONGODB_PORT=27017\n",
    "\n",
    "# Start a MongoDB node \n",
    "docker run -d --rm -p $MONGODB_PORT:$MONGODB_PORT --name mongo-enterprise \\\n",
    "mongodb/mongodb-enterprise-server:$MONGODB_TAG --port $MONGODB_PORT --bind_ip \"0.0.0.0\""
   ]
  },
  {
   "cell_type": "code",
   "execution_count": null,
   "metadata": {
    "vscode": {
     "languageId": "shellscript"
    }
   },
   "outputs": [],
   "source": [
    "# Check that the Vault Server and MongoDB are running\n",
    "docker ps"
   ]
  },
  {
   "cell_type": "code",
   "execution_count": null,
   "metadata": {
    "vscode": {
     "languageId": "shellscript"
    }
   },
   "outputs": [],
   "source": [
    "# Show the contents of MongoDB database data folder\n",
    "docker exec -it mongo-enterprise sh -c \"ls /data/db\""
   ]
  },
  {
   "cell_type": "code",
   "execution_count": null,
   "metadata": {
    "vscode": {
     "languageId": "shellscript"
    }
   },
   "outputs": [],
   "source": [
    "# set mongosh alias to make it easier to execute mongosh commands to the first MongoDB docker container\n",
    "# Use the connection string for the replica set.  This will allow write operations to go to the primary node.\n",
    "# As Authorization is turned on, we will be specifying the root admin user credentials in the connection string.\n",
    "echo \"MongoDB Port: $MONGODB_PORT\"\n",
    "alias mongosh=\"docker exec -it mongo-enterprise mongosh \\\"mongodb://127.0.0.1:$MONGODB_PORT/admin\\\"\""
   ]
  },
  {
   "cell_type": "code",
   "execution_count": null,
   "metadata": {
    "vscode": {
     "languageId": "shellscript"
    }
   },
   "outputs": [],
   "source": [
    "# Create database “record”, insert record with random user details (using function makeid), and display table records\n",
    "# Note: You can run this multiple times to insert more records as required\n",
    "\n",
    "# Take note of the username and password values being inserted into the table\n",
    "mongosh --eval \"use record\" \\\n",
    "--eval \"function makeid(length) {\n",
    "    var result           = '';\n",
    "    var characters       = 'ABCDEFGHIJKLMNOPQRSTUVWXYZabcdefghijklmnopqrstuvwxyz0123456789';\n",
    "    var charactersLength = characters.length;\n",
    "    for ( var i = 0; i < length; i++ ) {\n",
    "      result += characters.charAt(Math.floor(Math.random() * \n",
    " charactersLength));\n",
    "   }\n",
    "   return result;\n",
    "}\" \\\n",
    "--eval \"db.users.insertOne({username: \\\"user-\\\" + makeid(4), password: makeid(20)})\" \\\n",
    "--eval \"db.users.find()\""
   ]
  },
  {
   "cell_type": "code",
   "execution_count": null,
   "metadata": {
    "vscode": {
     "languageId": "shellscript"
    }
   },
   "outputs": [],
   "source": [
    "# Now view the contents of MongoDB database data folder again.  You should notice a new collection file for the data we inserted. \n",
    "# It should be named like \"collection-7--XXXXXXXXXXXXXXXXXX.wt\" collection-7--4848515339651436823.wt \n",
    "docker exec -it mongo-enterprise sh -c \"ls /data/db\""
   ]
  },
  {
   "cell_type": "code",
   "execution_count": null,
   "metadata": {
    "vscode": {
     "languageId": "shellscript"
    }
   },
   "outputs": [],
   "source": [
    "# Dump the contents of the new collections file.\n",
    "# Notice that the username and password of the inserted record can be seen in clear text\n",
    "# Note: MongoDB might take a while to flush the data to the database file.  Wait a while and try again if you do not see any data in the file.\n",
    "docker exec -it mongo-enterprise sh -c \"cat data/db/collection-7*\""
   ]
  },
  {
   "cell_type": "code",
   "execution_count": null,
   "metadata": {
    "vscode": {
     "languageId": "shellscript"
    }
   },
   "outputs": [],
   "source": [
    "# Stop MongoDB container.\n",
    "docker stop mongo-enterprise"
   ]
  },
  {
   "cell_type": "markdown",
   "metadata": {},
   "source": [
    "# MongoDB Enterprise with Encryption at Rest with Vault KMIP Engine\n",
    "\n",
    "This section demonstrates the configuration of MongoDB Enterprise with Encryption at Rest with HashiCorp's Vault KMIP secrets engine.\n",
    "\n",
    "Ref:\n",
    "- https://developer.hashicorp.com/vault/docs/secrets/kmip\n",
    "- https://developer.hashicorp.com/vault/tutorials/adp/kmip-engine\n",
    "\n",
    "## Step 1 - Enable Vault KMIP Engine"
   ]
  },
  {
   "cell_type": "code",
   "execution_count": null,
   "metadata": {
    "vscode": {
     "languageId": "shellscript"
    }
   },
   "outputs": [],
   "source": [
    "# Enable KMIP secrets engine at the default mount path\n",
    "#vault secrets disable kmip\n",
    "vault secrets enable kmip"
   ]
  },
  {
   "cell_type": "code",
   "execution_count": null,
   "metadata": {
    "vscode": {
     "languageId": "shellscript"
    }
   },
   "outputs": [],
   "source": [
    "# Start KMIP Server and set client TLS certificate TTL to 365 days\n",
    "\n",
    "# Get the docker IP address of the Vault server to configure the certificate SANs.  Otherwise the MongoDB KMIP connection will fail.\n",
    "export VAULT_IP=$(docker inspect -f '{{range .NetworkSettings.Networks}}{{.IPAddress}}{{end}}' vault-enterprise)\n",
    "\n",
    "# Option 1 - Elliptic Curve (EC) is the default\n",
    "vault write kmip/config listen_addrs=0.0.0.0:$VAULT_KMIP_PORT default_tls_client_ttl=365d server_hostnames=$VAULT_IP,localhost\n",
    "# Option 2 - RSA\n",
    "#vault write kmip/config listen_addrs=0.0.0.0:$VAULT_KMIP_PORT tls_ca_key_type=\"rsa\" tls_ca_key_bits=2048 default_tls_client_ttl=365d server_hostnames=$VAULT_IP,localhost\n",
    "\n",
    "# Check the KMIP configuration\n",
    "echo\n",
    "vault read kmip/config"
   ]
  },
  {
   "cell_type": "markdown",
   "metadata": {},
   "source": [
    "## Step 2 - Create KMIP Scope and Role in Vault\n",
    "\n",
    "The KMIP secrets engine uses the concept of scopes to partition KMIP managed object storage into multiple named buckets. Within a scope, roles can be created which dictate the set of allowed operations that the particular role can perform. TLS client certificates can be generated for a role, which services and applications can then use when sending KMIP requests against Vault's KMIP secret engine.\n",
    "\n",
    "In order to generate client certificates for KMIP clients to interact with Vault's KMIP server, we must first create a scope and role and specify the desired set of allowed operations for it."
   ]
  },
  {
   "cell_type": "code",
   "execution_count": null,
   "metadata": {
    "vscode": {
     "languageId": "shellscript"
    }
   },
   "outputs": [],
   "source": [
    "# Settings for the KMIP scope\n",
    "export KMIP_SVC_NAME=mongodb-svc\n",
    "\n",
    "# Create a scope\n",
    "vault write -f kmip/scope/$KMIP_SVC_NAME\n",
    "\n",
    "# List scopes and verify the KMIP scope has been created\n",
    "echo\n",
    "vault list kmip/scope"
   ]
  },
  {
   "cell_type": "code",
   "execution_count": null,
   "metadata": {
    "vscode": {
     "languageId": "shellscript"
    }
   },
   "outputs": [],
   "source": [
    "# Settings for the KMIP role to be created\n",
    "export KMIP_ROLE_NAME=tde\n",
    "\n",
    "# Create the KMIP Role (note the TTL if not set, it uses the default Vault token/lease TTL of 768hrs)\n",
    "vault write kmip/scope/$KMIP_SVC_NAME/role/$KMIP_ROLE_NAME tls_client_key_bits=2048 tls_client_key_type=rsa operation_all=true tls_client_ttl=365d\n",
    "\n",
    "# List roles and verify the KMIP role has been created\n",
    "echo\n",
    "vault list kmip/scope/$KMIP_SVC_NAME/role"
   ]
  },
  {
   "cell_type": "code",
   "execution_count": null,
   "metadata": {
    "vscode": {
     "languageId": "shellscript"
    }
   },
   "outputs": [],
   "source": [
    "# Optional - View the role details\n",
    "vault read kmip/scope/$KMIP_SVC_NAME/role/$KMIP_ROLE_NAME"
   ]
  },
  {
   "cell_type": "markdown",
   "metadata": {},
   "source": [
    "## Step 3 - Create the KMIP certificates for MongoDB Encryption at Rest"
   ]
  },
  {
   "cell_type": "code",
   "execution_count": null,
   "metadata": {
    "vscode": {
     "languageId": "shellscript"
    }
   },
   "outputs": [],
   "source": [
    "# Specify certificate folder path\n",
    "export CERT_PATH=certs\n",
    "\n",
    "# Create a folder for the KMIP certificates\n",
    "mkdir $CERT_PATH\n",
    "\n",
    "# Save KMIP CA certificate\n",
    "vault read -format=json kmip/ca | jq -r .data.ca_pem > $CERT_PATH/ca.pem    \n",
    "\n",
    "# Generate the required certificates\n",
    "vault write -format=json \\\n",
    "  kmip/scope/$KMIP_SVC_NAME/role/$KMIP_ROLE_NAME/credential/generate \\\n",
    "  format=pem > credential.json\n",
    "\n",
    "# Save the certificate and private key\n",
    "jq -r .data.certificate < credential.json > $CERT_PATH/cert.pem\n",
    "jq -r .data.private_key < credential.json > $CERT_PATH/key.pem\n",
    "cat $CERT_PATH/cert.pem $CERT_PATH/key.pem > $CERT_PATH/client.pem\n",
    "\n",
    "# Remove the temp file\n",
    "rm credential.json"
   ]
  },
  {
   "cell_type": "markdown",
   "metadata": {},
   "source": [
    "## Step 4 - Configuring MongoDB Enterprise Server with Encryption at Rest"
   ]
  },
  {
   "cell_type": "code",
   "execution_count": null,
   "metadata": {
    "vscode": {
     "languageId": "shellscript"
    }
   },
   "outputs": [],
   "source": [
    "echo \"Vault IP Address is: $VAULT_IP\"\n",
    "echo \"Vault KMIP Port is: $VAULT_KMIP_PORT\"\n",
    "\n",
    "# Start a MongoDB node \n",
    "docker run -d --rm --volume=./certs:/certs -p $MONGODB_PORT:$MONGODB_PORT --name mongo-enterprise \\\n",
    "mongodb/mongodb-enterprise-server:$MONGODB_TAG --port $MONGODB_PORT --bind_ip \"0.0.0.0\" \\\n",
    "--enableEncryption --kmipServerName $VAULT_IP --kmipPort $VAULT_KMIP_PORT \\\n",
    "--kmipServerCAFile /certs/ca.pem --kmipClientCertificateFile /certs/client.pem"
   ]
  },
  {
   "cell_type": "code",
   "execution_count": null,
   "metadata": {
    "vscode": {
     "languageId": "shellscript"
    }
   },
   "outputs": [],
   "source": [
    "# Check that the Vault Server and MongoDB are running\n",
    "docker ps"
   ]
  },
  {
   "cell_type": "markdown",
   "metadata": {},
   "source": [
    "## Step 5 - Testing MongoDB Enterprise Encryption at Rest"
   ]
  },
  {
   "cell_type": "code",
   "execution_count": null,
   "metadata": {
    "vscode": {
     "languageId": "shellscript"
    }
   },
   "outputs": [],
   "source": [
    "# Show the contents of MongoDB database data folder\n",
    "docker exec -it mongo-enterprise sh -c \"ls /data/db\""
   ]
  },
  {
   "cell_type": "code",
   "execution_count": null,
   "metadata": {
    "vscode": {
     "languageId": "shellscript"
    }
   },
   "outputs": [],
   "source": [
    "# Create database “record”, insert record with random user details (using function makeid), and display table records\n",
    "# Note: You can run this multiple times to insert more records as required\n",
    "\n",
    "# Take note of the username and password values being inserted into the table\n",
    "mongosh --eval \"use record\" \\\n",
    "--eval \"function makeid(length) {\n",
    "    var result           = '';\n",
    "    var characters       = 'ABCDEFGHIJKLMNOPQRSTUVWXYZabcdefghijklmnopqrstuvwxyz0123456789';\n",
    "    var charactersLength = characters.length;\n",
    "    for ( var i = 0; i < length; i++ ) {\n",
    "      result += characters.charAt(Math.floor(Math.random() * \n",
    " charactersLength));\n",
    "   }\n",
    "   return result;\n",
    "}\" \\\n",
    "--eval \"db.users.insertOne({username: \\\"user-\\\" + makeid(4), password: makeid(20)})\" \\\n",
    "--eval \"db.users.find()\""
   ]
  },
  {
   "cell_type": "code",
   "execution_count": null,
   "metadata": {
    "vscode": {
     "languageId": "shellscript"
    }
   },
   "outputs": [],
   "source": [
    "# Simulate that the KMIP server is down by changing the listening port to 5697\n",
    "vault write kmip/config listen_addrs=0.0.0.0:5697"
   ]
  },
  {
   "cell_type": "code",
   "execution_count": null,
   "metadata": {
    "vscode": {
     "languageId": "shellscript"
    }
   },
   "outputs": [],
   "source": [
    "# Reinsert another record and query to show that CRUD operations are still working\n",
    "mongosh --eval \"use record\" \\\n",
    "--eval \"function makeid(length) {\n",
    "    var result           = '';\n",
    "    var characters       = 'ABCDEFGHIJKLMNOPQRSTUVWXYZabcdefghijklmnopqrstuvwxyz0123456789';\n",
    "    var charactersLength = characters.length;\n",
    "    for ( var i = 0; i < length; i++ ) {\n",
    "      result += characters.charAt(Math.floor(Math.random() * \n",
    " charactersLength));\n",
    "   }\n",
    "   return result;\n",
    "}\" \\\n",
    "--eval \"db.users.insertOne({username: \\\"user-\\\" + makeid(4), password: makeid(20)})\" \\\n",
    "--eval \"db.users.find()\""
   ]
  },
  {
   "cell_type": "code",
   "execution_count": null,
   "metadata": {
    "vscode": {
     "languageId": "shellscript"
    }
   },
   "outputs": [],
   "source": [
    "# Now view the contents of MongoDB database data folder again.  You should notice a new collection file for the data we inserted. \n",
    "# It should be named like \"collection-7--XXXXXXXXXXXXXXXXXX.wt\" collection-7--4848515339651436823.wt \n",
    "docker exec -it mongo-enterprise sh -c \"ls /data/db\""
   ]
  },
  {
   "cell_type": "code",
   "execution_count": null,
   "metadata": {
    "vscode": {
     "languageId": "shellscript"
    }
   },
   "outputs": [],
   "source": [
    "# Dump the contents of the new collections file.\n",
    "# Notice that the username and password of the inserted record is now encrypted\n",
    "# Note: MongoDB might take a while to flush the data to the database file.  Wait a while and try again if you do not see any data in the file.\n",
    "docker exec -it mongo-enterprise sh -c \"cat data/db/collection-7*\""
   ]
  },
  {
   "cell_type": "markdown",
   "metadata": {},
   "source": [
    "# Cleanup"
   ]
  },
  {
   "cell_type": "code",
   "execution_count": null,
   "metadata": {
    "vscode": {
     "languageId": "shellscript"
    }
   },
   "outputs": [],
   "source": [
    "# Cleanup\n",
    "\n",
    "# Disable KMIP secrets engine\n",
    "vault secrets disable kmip\n",
    "\n",
    "# Stop Vault container\n",
    "docker stop vault-enterprise\n",
    "\n",
    "# Stop MongoDB container\n",
    "docker stop mongo-enterprise\n",
    "\n",
    "# Remove KMIP certificate demo files\n",
    "rm -rf $CERT_PATH"
   ]
  }
 ],
 "metadata": {
  "kernelspec": {
   "display_name": "Bash",
   "language": "bash",
   "name": "bash"
  },
  "language_info": {
   "codemirror_mode": "shell",
   "file_extension": ".sh",
   "mimetype": "text/x-sh",
   "name": "bash"
  },
  "orig_nbformat": 4
 },
 "nbformat": 4,
 "nbformat_minor": 2
}
