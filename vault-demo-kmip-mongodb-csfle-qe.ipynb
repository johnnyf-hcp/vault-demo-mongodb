{
 "cells": [
  {
   "cell_type": "markdown",
   "metadata": {},
   "source": [
    "# HashiCorp Vault Demo for KMIP Secrets Engine and MongoDB Client-Side Field Level Encryption (CSFLE) & Queryable Encryption (QE)\n",
    "\n",
    "With MongoDB’s Client-Side Field Level Encryption (CSFLE) and Queryable Encryption (QE), applications can encrypt sensitive plain text fields in documents prior to transmitting data to the server. This means that data processed by database (in use) will not be in plain text as it’s always encrypted and most importantly still can be queried (QE). \n",
    "\n",
    "This demo showcases how MongoDB CSFLE and QE uses HashiCorp Vault's KMIP Secrets Engine to manage encryption keys via KMIP protocol.\n",
    "\n",
    "Note: MongoDB Community & Enterprise server editions have the same developer features (queries, aggregation, replication, sharding, etc).  MongoDB Enterprise Advanced adds:\n",
    "- Operational & security features (In-memory storage engine, Auditing, Kerberos & LDAP authentication, Encryption at Rest). https://www.mongodb.com/docs/manual/administration/upgrade-community-to-enterprise/\n",
    "- Entitlements to use additional tools including Ops Manager, BI Connector, and Enterprise Operator for Kubernetes.\n",
    "\n",
    "CSFLE is offered on both Community and Enterprise Edition. The Enterprise edition can perform automatic encryption based on JSONSchema (which is also used by the mongocryptd library). For the community edition the application will be responsible for performing this encryption. \n",
    "- https://www.mongodb.com/docs/manual/core/csfle/reference/compatibility/\n",
    "- https://www.mongodb.com/docs/manual/core/queryable-encryption/reference/compatibility/\n",
    "\n",
    "<img src=\"images/vault-demo-kmip-mongodb-csfle-qe.png\">\n",
    "\n",
    "## Setup of the Demo\n",
    "\n",
    "This setup is tested on MacOS and is meant to simulate a distributed setup.  The components used in this demo are:\n",
    "- Vault Enterprise installed on docker (to simulate an external Vault)\n",
    "- MongoDB Enterprise installed on docker (to simulate an external MongoDB)\n",
    "- You have the Vault CLI installed\n",
    "\n",
    "This assumes your Vault server is installed using docker and already running on http://127.0.0.1:8200\n",
    "and you have set your VAULT_ADDR and VAULT_TOKEN variables.\n",
    "\n",
    "Note: You will need Vault to be installed with an ADP KMIP license add-on.  Also note that a Premium license is required if you wish the KMIP listener to scale on the Vault cluster.  For Standard or Plus license, the KMIP listener is only on the leader node.\n",
    "\n",
    "## Requirements to Run This Demo\n",
    "You will need Visual Studio Code to be installed with the Jupyter plugin.  To run this notebook in VS Code, chose the Jupyter kernel and then Bash.\n",
    "- To run the current cell, use Ctrl + Enter.\n",
    "- To run the current cell and advance to the next, use Shift+Enter."
   ]
  },
  {
   "cell_type": "markdown",
   "metadata": {},
   "source": [
    "# Setup Pre-requisites (One-time)\n",
    "\n",
    "Assumes you have docker installed and brew installed\n",
    "\n",
    "- https://docs.docker.com/desktop/install/mac-install/\n",
    "- https://brew.sh/"
   ]
  },
  {
   "cell_type": "code",
   "execution_count": null,
   "metadata": {
    "vscode": {
     "languageId": "shellscript"
    }
   },
   "outputs": [],
   "source": [
    "# Make sure Python 3 is installed for the tutorial python scripts to run\n",
    "brew install python3"
   ]
  },
  {
   "cell_type": "code",
   "execution_count": 28,
   "metadata": {
    "vscode": {
     "languageId": "shellscript"
    }
   },
   "outputs": [
    {
     "name": "stdout",
     "output_type": "stream",
     "text": [
      "\u001b[33mWARNING: Skipping /opt/homebrew/lib/python3.11/site-packages/certifi-2024.2.2.dist-info due to invalid metadata entry 'name'\u001b[0m\u001b[33m\n",
      "\u001b[0m\u001b[33mWARNING: Skipping /opt/homebrew/lib/python3.11/site-packages/certifi-2024.2.2.dist-info due to invalid metadata entry 'name'\u001b[0m\u001b[33m\n",
      "\u001b[0m\u001b[33mWARNING: Skipping /opt/homebrew/lib/python3.11/site-packages/cryptography-42.0.2.dist-info due to invalid metadata entry 'name'\u001b[0m\u001b[33m\n",
      "\u001b[0mCollecting pymongo\n",
      "  Using cached pymongo-4.6.2-cp311-cp311-macosx_10_9_universal2.whl.metadata (22 kB)\n",
      "Requirement already satisfied: dnspython<3.0.0,>=1.16.0 in /opt/homebrew/lib/python3.11/site-packages (from pymongo) (2.3.0)\n",
      "Using cached pymongo-4.6.2-cp311-cp311-macosx_10_9_universal2.whl (534 kB)\n",
      "\u001b[33mWARNING: Skipping /opt/homebrew/lib/python3.11/site-packages/certifi-2024.2.2.dist-info due to invalid metadata entry 'name'\u001b[0m\u001b[33m\n",
      "\u001b[0m\u001b[33mWARNING: Skipping /opt/homebrew/lib/python3.11/site-packages/cryptography-42.0.2.dist-info due to invalid metadata entry 'name'\u001b[0m\u001b[33m\n",
      "\u001b[0mInstalling collected packages: pymongo\n",
      "\u001b[33mWARNING: Skipping /opt/homebrew/lib/python3.11/site-packages/certifi-2024.2.2.dist-info due to invalid metadata entry 'name'\u001b[0m\u001b[33m\n",
      "\u001b[0m\u001b[33mWARNING: Skipping /opt/homebrew/lib/python3.11/site-packages/cryptography-42.0.2.dist-info due to invalid metadata entry 'name'\u001b[0m\u001b[33m\n",
      "\u001b[0mSuccessfully installed pymongo-4.6.2\n",
      "\u001b[33mWARNING: Skipping /opt/homebrew/lib/python3.11/site-packages/certifi-2024.2.2.dist-info due to invalid metadata entry 'name'\u001b[0m\u001b[33m\n",
      "\u001b[0m\u001b[33mWARNING: Skipping /opt/homebrew/lib/python3.11/site-packages/certifi-2024.2.2.dist-info due to invalid metadata entry 'name'\u001b[0m\u001b[33m\n",
      "\u001b[0m\u001b[33mWARNING: Skipping /opt/homebrew/lib/python3.11/site-packages/certifi-2024.2.2.dist-info due to invalid metadata entry 'name'\u001b[0m\u001b[33m\n",
      "\u001b[0m\n",
      "\u001b[33mWARNING: Skipping /opt/homebrew/lib/python3.11/site-packages/certifi-2024.2.2.dist-info due to invalid metadata entry 'name'\u001b[0m\u001b[33m\n",
      "\u001b[0m\u001b[33mWARNING: Skipping /opt/homebrew/lib/python3.11/site-packages/certifi-2024.2.2.dist-info due to invalid metadata entry 'name'\u001b[0m\u001b[33m\n",
      "\u001b[0m\u001b[33mWARNING: Skipping /opt/homebrew/lib/python3.11/site-packages/cryptography-42.0.2.dist-info due to invalid metadata entry 'name'\u001b[0m\u001b[33m\n",
      "\u001b[0mRequirement already satisfied: pymongo[encryption] in /opt/homebrew/lib/python3.11/site-packages (4.6.2)\n",
      "Requirement already satisfied: dnspython<3.0.0,>=1.16.0 in /opt/homebrew/lib/python3.11/site-packages (from pymongo[encryption]) (2.3.0)\n",
      "Collecting pymongocrypt<2.0.0,>=1.6.0 (from pymongo[encryption])\n",
      "  Using cached pymongocrypt-1.8.0-py3-none-macosx_11_0_universal2.whl.metadata (21 kB)\n",
      "Requirement already satisfied: certifi in /opt/homebrew/lib/python3.11/site-packages (from pymongo[encryption]) (2022.12.7)\n",
      "Requirement already satisfied: cffi<2,>=1.12.0 in /opt/homebrew/lib/python3.11/site-packages (from pymongocrypt<2.0.0,>=1.6.0->pymongo[encryption]) (1.15.1)\n",
      "Requirement already satisfied: cryptography>=40 in /opt/homebrew/lib/python3.11/site-packages (from pymongocrypt<2.0.0,>=1.6.0->pymongo[encryption]) (42.0.4)\n",
      "Requirement already satisfied: packaging>=21.0 in /Users/johnnyfang/Library/Python/3.11/lib/python/site-packages (from pymongocrypt<2.0.0,>=1.6.0->pymongo[encryption]) (23.2)\n",
      "Requirement already satisfied: requests<3.0.0 in /opt/homebrew/lib/python3.11/site-packages (from pymongocrypt<2.0.0,>=1.6.0->pymongo[encryption]) (2.28.2)\n",
      "Collecting pymongo-auth-aws<2.0.0 (from pymongo[encryption])\n",
      "  Using cached pymongo_auth_aws-1.1.0-py2.py3-none-any.whl.metadata (4.9 kB)\n",
      "Requirement already satisfied: pycparser in /opt/homebrew/lib/python3.11/site-packages (from cffi<2,>=1.12.0->pymongocrypt<2.0.0,>=1.6.0->pymongo[encryption]) (2.21)\n",
      "Requirement already satisfied: boto3 in /Users/johnnyfang/Library/Python/3.11/lib/python/site-packages (from pymongo-auth-aws<2.0.0->pymongo[encryption]) (1.34.11)\n",
      "Requirement already satisfied: botocore in /Users/johnnyfang/Library/Python/3.11/lib/python/site-packages (from pymongo-auth-aws<2.0.0->pymongo[encryption]) (1.34.11)\n",
      "Requirement already satisfied: charset-normalizer<4,>=2 in /opt/homebrew/lib/python3.11/site-packages (from requests<3.0.0->pymongocrypt<2.0.0,>=1.6.0->pymongo[encryption]) (3.1.0)\n",
      "Requirement already satisfied: idna<4,>=2.5 in /opt/homebrew/lib/python3.11/site-packages (from requests<3.0.0->pymongocrypt<2.0.0,>=1.6.0->pymongo[encryption]) (3.4)\n",
      "Requirement already satisfied: urllib3<1.27,>=1.21.1 in /opt/homebrew/lib/python3.11/site-packages (from requests<3.0.0->pymongocrypt<2.0.0,>=1.6.0->pymongo[encryption]) (1.26.15)\n",
      "Requirement already satisfied: jmespath<2.0.0,>=0.7.1 in /opt/homebrew/lib/python3.11/site-packages (from boto3->pymongo-auth-aws<2.0.0->pymongo[encryption]) (1.0.1)\n",
      "Requirement already satisfied: s3transfer<0.11.0,>=0.10.0 in /Users/johnnyfang/Library/Python/3.11/lib/python/site-packages (from boto3->pymongo-auth-aws<2.0.0->pymongo[encryption]) (0.10.0)\n",
      "Requirement already satisfied: python-dateutil<3.0.0,>=2.1 in /opt/homebrew/lib/python3.11/site-packages (from botocore->pymongo-auth-aws<2.0.0->pymongo[encryption]) (2.8.2)\n",
      "Requirement already satisfied: six>=1.5 in /opt/homebrew/lib/python3.11/site-packages (from python-dateutil<3.0.0,>=2.1->botocore->pymongo-auth-aws<2.0.0->pymongo[encryption]) (1.16.0)\n",
      "Using cached pymongocrypt-1.8.0-py3-none-macosx_11_0_universal2.whl (6.9 MB)\n",
      "Using cached pymongo_auth_aws-1.1.0-py2.py3-none-any.whl (11 kB)\n",
      "\u001b[33mWARNING: Skipping /opt/homebrew/lib/python3.11/site-packages/certifi-2024.2.2.dist-info due to invalid metadata entry 'name'\u001b[0m\u001b[33m\n",
      "\u001b[0m\u001b[33mWARNING: Skipping /opt/homebrew/lib/python3.11/site-packages/cryptography-42.0.2.dist-info due to invalid metadata entry 'name'\u001b[0m\u001b[33m\n",
      "\u001b[0mInstalling collected packages: pymongocrypt, pymongo-auth-aws\n",
      "\u001b[33mWARNING: Skipping /opt/homebrew/lib/python3.11/site-packages/certifi-2024.2.2.dist-info due to invalid metadata entry 'name'\u001b[0m\u001b[33m\n",
      "\u001b[0m\u001b[33mWARNING: Skipping /opt/homebrew/lib/python3.11/site-packages/cryptography-42.0.2.dist-info due to invalid metadata entry 'name'\u001b[0m\u001b[33m\n",
      "\u001b[0m\u001b[33mWARNING: Skipping /opt/homebrew/lib/python3.11/site-packages/certifi-2024.2.2.dist-info due to invalid metadata entry 'name'\u001b[0m\u001b[33m\n",
      "\u001b[0m\u001b[33mWARNING: Skipping /opt/homebrew/lib/python3.11/site-packages/cryptography-42.0.2.dist-info due to invalid metadata entry 'name'\u001b[0m\u001b[33m\n",
      "\u001b[0mSuccessfully installed pymongo-auth-aws-1.1.0 pymongocrypt-1.8.0\n",
      "\u001b[33mWARNING: Skipping /opt/homebrew/lib/python3.11/site-packages/certifi-2024.2.2.dist-info due to invalid metadata entry 'name'\u001b[0m\u001b[33m\n",
      "\u001b[0m\u001b[33mWARNING: Skipping /opt/homebrew/lib/python3.11/site-packages/certifi-2024.2.2.dist-info due to invalid metadata entry 'name'\u001b[0m\u001b[33m\n",
      "\u001b[0m\u001b[33mWARNING: Skipping /opt/homebrew/lib/python3.11/site-packages/certifi-2024.2.2.dist-info due to invalid metadata entry 'name'\u001b[0m\u001b[33m\n",
      "\u001b[0m\n"
     ]
    }
   ],
   "source": [
    "# Install python dependencies for the CSFLE/QE python script samples\n",
    "python3 -m pip install pymongo\n",
    "python3 -m pip install 'pymongo[encryption]'"
   ]
  },
  {
   "cell_type": "code",
   "execution_count": null,
   "metadata": {
    "vscode": {
     "languageId": "shellscript"
    }
   },
   "outputs": [],
   "source": [
    "# Optional: To upgrade current version\n",
    "python3 -m pip install --upgrade pymongo\n",
    "python3 -m pip install --upgrade 'pymongo[encryption]'\n"
   ]
  },
  {
   "cell_type": "code",
   "execution_count": 27,
   "metadata": {
    "vscode": {
     "languageId": "shellscript"
    }
   },
   "outputs": [
    {
     "name": "stdout",
     "output_type": "stream",
     "text": [
      "\u001b[33mWARNING: Skipping /opt/homebrew/lib/python3.11/site-packages/certifi-2024.2.2.dist-info due to invalid metadata entry 'name'\u001b[0m\u001b[33m\n",
      "\u001b[0m\u001b[33mWARNING: Skipping /opt/homebrew/lib/python3.11/site-packages/certifi-2024.2.2.dist-info due to invalid metadata entry 'name'\u001b[0m\u001b[33m\n",
      "\u001b[0m\u001b[33mWARNING: Skipping /opt/homebrew/lib/python3.11/site-packages/cryptography-42.0.2.dist-info due to invalid metadata entry 'name'\u001b[0m\u001b[33m\n",
      "\u001b[0mFound existing installation: pymongo 4.6.2\n",
      "Uninstalling pymongo-4.6.2:\n",
      "  Successfully uninstalled pymongo-4.6.2\n",
      "\u001b[33mWARNING: Skipping /opt/homebrew/lib/python3.11/site-packages/certifi-2024.2.2.dist-info due to invalid metadata entry 'name'\u001b[0m\u001b[33m\n",
      "\u001b[0m\u001b[33mWARNING: Skipping /opt/homebrew/lib/python3.11/site-packages/certifi-2024.2.2.dist-info due to invalid metadata entry 'name'\u001b[0m\u001b[33m\n",
      "\u001b[0m\u001b[33mWARNING: Skipping /opt/homebrew/lib/python3.11/site-packages/cryptography-42.0.2.dist-info due to invalid metadata entry 'name'\u001b[0m\u001b[33m\n",
      "\u001b[0mFound existing installation: pymongo-auth-aws 1.1.0\n",
      "Uninstalling pymongo-auth-aws-1.1.0:\n",
      "  Successfully uninstalled pymongo-auth-aws-1.1.0\n",
      "\u001b[33mWARNING: Skipping /opt/homebrew/lib/python3.11/site-packages/certifi-2024.2.2.dist-info due to invalid metadata entry 'name'\u001b[0m\u001b[33m\n",
      "\u001b[0m\u001b[33mWARNING: Skipping /opt/homebrew/lib/python3.11/site-packages/certifi-2024.2.2.dist-info due to invalid metadata entry 'name'\u001b[0m\u001b[33m\n",
      "\u001b[0m\u001b[33mWARNING: Skipping /opt/homebrew/lib/python3.11/site-packages/cryptography-42.0.2.dist-info due to invalid metadata entry 'name'\u001b[0m\u001b[33m\n",
      "\u001b[0mFound existing installation: pymongocrypt 1.8.0\n",
      "Uninstalling pymongocrypt-1.8.0:\n",
      "  Successfully uninstalled pymongocrypt-1.8.0\n"
     ]
    }
   ],
   "source": [
    "# Optional: To uninstall pymongo\n",
    "python3 -m pip uninstall -y pymongo\n",
    "python3 -m pip uninstall -y pymongo-auth-aws\n",
    "python3 -m pip uninstall -y pymongocrypt"
   ]
  },
  {
   "cell_type": "code",
   "execution_count": 25,
   "metadata": {
    "vscode": {
     "languageId": "shellscript"
    }
   },
   "outputs": [
    {
     "name": "stdout",
     "output_type": "stream",
     "text": [
      "\u001b[33mWARNING: Skipping /opt/homebrew/lib/python3.11/site-packages/certifi-2024.2.2.dist-info due to invalid metadata entry 'name'\u001b[0m\u001b[33m\n",
      "\u001b[0m\u001b[33mWARNING: Skipping /opt/homebrew/lib/python3.11/site-packages/cryptography-42.0.2.dist-info due to invalid metadata entry 'name'\u001b[0m\u001b[33m\n",
      "\u001b[0m\u001b[33mWARNING: Skipping /opt/homebrew/lib/python3.11/site-packages/certifi-2024.2.2.dist-info due to invalid metadata entry 'name'\u001b[0m\u001b[33m\n",
      "\u001b[0m\u001b[33mWARNING: Skipping /opt/homebrew/lib/python3.11/site-packages/certifi-2024.2.2.dist-info due to invalid metadata entry 'name'\u001b[0m\u001b[33m\n",
      "\u001b[0m\u001b[33mWARNING: Skipping /opt/homebrew/lib/python3.11/site-packages/certifi-2024.2.2.dist-info due to invalid metadata entry 'name'\u001b[0m\u001b[33m\n",
      "\u001b[0m\n"
     ]
    },
    {
     "ename": "",
     "evalue": "1",
     "output_type": "error",
     "traceback": []
    }
   ],
   "source": [
    "# Optional: Check pymongo version that you are using\n",
    "python3 -m pip list | grep pymongo"
   ]
  },
  {
   "cell_type": "markdown",
   "metadata": {},
   "source": [
    "# Setting up HashiCorp Vault"
   ]
  },
  {
   "cell_type": "code",
   "execution_count": 1,
   "metadata": {
    "vscode": {
     "languageId": "shellscript"
    }
   },
   "outputs": [
    {
     "name": "stdout",
     "output_type": "stream",
     "text": [
      "14ffe0b5cb8a98a87de8d7cdf3a7aea86e8101de65c401b392f92ae2d70ecb35\n"
     ]
    }
   ],
   "source": [
    "# Optional.  The following are some sample commands for running Vault Enterprise in docker.\n",
    "# Expose both the Vault API and the KMIP ports to the host machine.\n",
    "# We will be using 5697 instead of 5696 for the KMIP port as the CSFLE/QE samples are already configured for that port\n",
    "export VAULT_PORT=8200\n",
    "export VAULT_KMIP_PORT=5697\n",
    "export VAULT_ADDR=\"http://127.0.0.1:${VAULT_PORT}\"\n",
    "export VAULT_TOKEN=\"root\"\n",
    "# Change the path to your license file\n",
    "export VAULT_LICENSE=$(cat $HOME/vault-enterprise/vault_local/data/vault.hclic)\n",
    "docker run -d --rm --name vault-enterprise --cap-add=IPC_LOCK \\\n",
    "-e \"VAULT_DEV_ROOT_TOKEN_ID=${VAULT_TOKEN}\" \\\n",
    "-e \"VAULT_DEV_LISTEN_ADDRESS=:${VAULT_PORT}\" \\\n",
    "-e \"VAULT_LICENSE=${VAULT_LICENSE}\" \\\n",
    "-p ${VAULT_KMIP_PORT}:${VAULT_KMIP_PORT} \\\n",
    "-p ${VAULT_PORT}:${VAULT_PORT} hashicorp/vault-enterprise:latest"
   ]
  },
  {
   "cell_type": "markdown",
   "metadata": {},
   "source": [
    "# Setting up MongDB Enterprise\n",
    "\n",
    "Note: Queryable Encryption does not work on a standalone instance.  Needs either a replica set or a sharded cluster.  For this demo, we will be using a single node replica set.\n",
    "Ref: https://www.mongodb.com/community/forums/t/i-found-an-error-when-trying-to-use-mongodbs-queryable-encryption/188433/4"
   ]
  },
  {
   "cell_type": "code",
   "execution_count": 2,
   "metadata": {
    "vscode": {
     "languageId": "shellscript"
    }
   },
   "outputs": [
    {
     "name": "stdout",
     "output_type": "stream",
     "text": [
      "222506d934ef55063b97fd5a53a8a043d2cd0d12cb3adf9efdfe710233947a27\n"
     ]
    }
   ],
   "source": [
    "# Run MongoDB Enterprise in docker.  Expose the MongoDB port to the host machine. \n",
    "export MONGODB_PORT=27017\n",
    "# Use latest 7.0 MongoDB Enterprise docker image.  This supports both linux/amd64 and linux/arm64\n",
    "export MONGODB_TAG=7.0-ubuntu2204\n",
    "# For UBI images\n",
    "#export MONGODB_TAG=7.0-ubi8\n",
    "\n",
    "docker run -d --rm -p ${MONGODB_PORT}:${MONGODB_PORT} --name mongodb-enterprise \\\n",
    "mongodb/mongodb-enterprise-server:$MONGODB_TAG mongod --replSet rs0 --port $MONGODB_PORT  \\\n",
    "--bind_ip \"0.0.0.0\""
   ]
  },
  {
   "cell_type": "code",
   "execution_count": 4,
   "metadata": {
    "vscode": {
     "languageId": "shellscript"
    }
   },
   "outputs": [
    {
     "name": "stdout",
     "output_type": "stream",
     "text": [
      "\u001b]0;mongosh mongodb://127.0.0.1:27017/?directConnection=true&serverSelectionTimeoutMS=2000\u0007Current Mongosh Log ID:\t65d8426e4b3313c62d457d16\n",
      "Connecting to:\t\t\u001b[1m\u001b[32mmongodb://127.0.0.1:27017/?directConnection=true&serverSelectionTimeoutMS=2000&appName=mongosh+2.1.5\u001b[0m\n",
      "Using MongoDB:\t\t7.0.5\n",
      "\u001b[1m\u001b[33mUsing Mongosh\u001b[0m:\t\t2.1.5\n",
      "\n",
      "For mongosh info see: \u001b[1mhttps://docs.mongodb.com/mongodb-shell/\u001b[0m\n",
      "\n",
      "\n",
      "To help improve our products, anonymous usage data is collected and sent to MongoDB periodically (https://www.mongodb.com/legal/privacy-policy).\n",
      "You can opt-out by running the \u001b[1mdisableTelemetry()\u001b[0m command.\n",
      "\n",
      "\u001b[1G\u001b[0J \u001b[1G\u001b[1m\u001b[33m------\u001b[0m\n",
      "   \u001b[1m\u001b[33mThe server generated these startup warnings when booting\u001b[0m\n",
      "   2024-02-23T06:59:52.917+00:00: Using the XFS filesystem is strongly recommended with the WiredTiger storage engine. See http://dochub.mongodb.org/core/prodnotes-filesystem\n",
      "   2024-02-23T06:59:53.601+00:00: Access control is not enabled for the database. Read and write access to data and configuration is unrestricted\n",
      "   2024-02-23T06:59:53.601+00:00: /sys/kernel/mm/transparent_hugepage/enabled is 'always'. We suggest setting it to 'never'\n",
      "   2024-02-23T06:59:53.601+00:00: vm.max_map_count is too low\n",
      "\u001b[1m\u001b[33m------\u001b[0m\n",
      "\n",
      "{\n",
      "  info2: \u001b[32m'no configuration specified. Using a default configuration for the set'\u001b[39m,\n",
      "  me: \u001b[32m'222506d934ef:27017'\u001b[39m,\n",
      "  ok: \u001b[33m1\u001b[39m\n",
      "}\n"
     ]
    }
   ],
   "source": [
    "# Initialize the replica set with a default configuration set\n",
    "# Ref: https://www.mongodb.com/docs/manual/reference/method/rs.initiate/\n",
    "docker exec -it mongodb-enterprise mongosh --eval \"rs.initiate()\""
   ]
  },
  {
   "cell_type": "code",
   "execution_count": 5,
   "metadata": {
    "vscode": {
     "languageId": "shellscript"
    }
   },
   "outputs": [
    {
     "name": "stdout",
     "output_type": "stream",
     "text": [
      "\u001b]0;mongosh mongodb://127.0.0.1:27017/?directConnection=true&serverSelectionTimeoutMS=2000\u0007Current Mongosh Log ID:\t65d842718e5e95b7b2f9a714\n",
      "Connecting to:\t\t\u001b[1m\u001b[32mmongodb://127.0.0.1:27017/?directConnection=true&serverSelectionTimeoutMS=2000&appName=mongosh+2.1.5\u001b[0m\n",
      "Using MongoDB:\t\t7.0.5\n",
      "\u001b[1m\u001b[33mUsing Mongosh\u001b[0m:\t\t2.1.5\n",
      "\n",
      "For mongosh info see: \u001b[1mhttps://docs.mongodb.com/mongodb-shell/\u001b[0m\n",
      "\n",
      "\u001b[1G\u001b[0J \u001b[1G\u001b[1m\u001b[33m------\u001b[0m\n",
      "   \u001b[1m\u001b[33mThe server generated these startup warnings when booting\u001b[0m\n",
      "   2024-02-23T06:59:52.917+00:00: Using the XFS filesystem is strongly recommended with the WiredTiger storage engine. See http://dochub.mongodb.org/core/prodnotes-filesystem\n",
      "   2024-02-23T06:59:53.601+00:00: Access control is not enabled for the database. Read and write access to data and configuration is unrestricted\n",
      "   2024-02-23T06:59:53.601+00:00: /sys/kernel/mm/transparent_hugepage/enabled is 'always'. We suggest setting it to 'never'\n",
      "   2024-02-23T06:59:53.601+00:00: vm.max_map_count is too low\n",
      "\u001b[1m\u001b[33m------\u001b[0m\n",
      "\n",
      "{\n",
      "  set: \u001b[32m'rs0'\u001b[39m,\n",
      "  date: ISODate('2024-02-23T07:00:01.916Z'),\n",
      "  myState: \u001b[33m1\u001b[39m,\n",
      "  term: Long(\u001b[32m'1'\u001b[39m),\n",
      "  syncSourceHost: \u001b[32m''\u001b[39m,\n",
      "  syncSourceId: \u001b[33m-1\u001b[39m,\n",
      "  heartbeatIntervalMillis: Long(\u001b[32m'2000'\u001b[39m),\n",
      "  majorityVoteCount: \u001b[33m1\u001b[39m,\n",
      "  writeMajorityCount: \u001b[33m1\u001b[39m,\n",
      "  votingMembersCount: \u001b[33m1\u001b[39m,\n",
      "  writableVotingMembersCount: \u001b[33m1\u001b[39m,\n",
      "  optimes: {\n",
      "    lastCommittedOpTime: { ts: Timestamp({ t: \u001b[33m1708671598\u001b[39m, i: \u001b[33m23\u001b[39m }), t: Long(\u001b[32m'1'\u001b[39m) },\n",
      "    lastCommittedWallTime: ISODate('2024-02-23T06:59:58.856Z'),\n",
      "    readConcernMajorityOpTime: { ts: Timestamp({ t: \u001b[33m1708671598\u001b[39m, i: \u001b[33m23\u001b[39m }), t: Long(\u001b[32m'1'\u001b[39m) },\n",
      "    appliedOpTime: { ts: Timestamp({ t: \u001b[33m1708671598\u001b[39m, i: \u001b[33m23\u001b[39m }), t: Long(\u001b[32m'1'\u001b[39m) },\n",
      "    durableOpTime: { ts: Timestamp({ t: \u001b[33m1708671598\u001b[39m, i: \u001b[33m23\u001b[39m }), t: Long(\u001b[32m'1'\u001b[39m) },\n",
      "    lastAppliedWallTime: ISODate('2024-02-23T06:59:58.856Z'),\n",
      "    lastDurableWallTime: ISODate('2024-02-23T06:59:58.856Z')\n",
      "  },\n",
      "  lastStableRecoveryTimestamp: Timestamp({ t: \u001b[33m1708671598\u001b[39m, i: \u001b[33m1\u001b[39m }),\n",
      "  electionCandidateMetrics: {\n",
      "    lastElectionReason: \u001b[32m'electionTimeout'\u001b[39m,\n",
      "    lastElectionDate: ISODate('2024-02-23T06:59:58.788Z'),\n",
      "    electionTerm: Long(\u001b[32m'1'\u001b[39m),\n",
      "    lastCommittedOpTimeAtElection: { ts: Timestamp({ t: \u001b[33m1708671598\u001b[39m, i: \u001b[33m1\u001b[39m }), t: Long(\u001b[32m'-1'\u001b[39m) },\n",
      "    lastSeenOpTimeAtElection: { ts: Timestamp({ t: \u001b[33m1708671598\u001b[39m, i: \u001b[33m1\u001b[39m }), t: Long(\u001b[32m'-1'\u001b[39m) },\n",
      "    numVotesNeeded: \u001b[33m1\u001b[39m,\n",
      "    priorityAtElection: \u001b[33m1\u001b[39m,\n",
      "    electionTimeoutMillis: Long(\u001b[32m'10000'\u001b[39m),\n",
      "    newTermStartDate: ISODate('2024-02-23T06:59:58.804Z'),\n",
      "    wMajorityWriteAvailabilityDate: ISODate('2024-02-23T06:59:58.813Z')\n",
      "  },\n",
      "  members: [\n",
      "    {\n",
      "      _id: \u001b[33m0\u001b[39m,\n",
      "      name: \u001b[32m'222506d934ef:27017'\u001b[39m,\n",
      "      health: \u001b[33m1\u001b[39m,\n",
      "      state: \u001b[33m1\u001b[39m,\n",
      "      stateStr: \u001b[32m'PRIMARY'\u001b[39m,\n",
      "      uptime: \u001b[33m9\u001b[39m,\n",
      "      optime: { ts: Timestamp({ t: \u001b[33m1708671598\u001b[39m, i: \u001b[33m23\u001b[39m }), t: Long(\u001b[32m'1'\u001b[39m) },\n",
      "      optimeDate: ISODate('2024-02-23T06:59:58.000Z'),\n",
      "      lastAppliedWallTime: ISODate('2024-02-23T06:59:58.856Z'),\n",
      "      lastDurableWallTime: ISODate('2024-02-23T06:59:58.856Z'),\n",
      "      syncSourceHost: \u001b[32m''\u001b[39m,\n",
      "      syncSourceId: \u001b[33m-1\u001b[39m,\n",
      "      infoMessage: \u001b[32m'Could not find member to sync from'\u001b[39m,\n",
      "      electionTime: Timestamp({ t: \u001b[33m1708671598\u001b[39m, i: \u001b[33m2\u001b[39m }),\n",
      "      electionDate: ISODate('2024-02-23T06:59:58.000Z'),\n",
      "      configVersion: \u001b[33m1\u001b[39m,\n",
      "      configTerm: \u001b[33m1\u001b[39m,\n",
      "      self: \u001b[33mtrue\u001b[39m,\n",
      "      lastHeartbeatMessage: \u001b[32m''\u001b[39m\n",
      "    }\n",
      "  ],\n",
      "  ok: \u001b[33m1\u001b[39m,\n",
      "  \u001b[32m'$clusterTime'\u001b[39m: {\n",
      "    clusterTime: Timestamp({ t: \u001b[33m1708671598\u001b[39m, i: \u001b[33m23\u001b[39m }),\n",
      "    signature: {\n",
      "      hash: Binary.createFromBase64(\u001b[32m'AAAAAAAAAAAAAAAAAAAAAAAAAAA='\u001b[39m, \u001b[33m0\u001b[39m),\n",
      "      keyId: Long(\u001b[32m'0'\u001b[39m)\n",
      "    }\n",
      "  },\n",
      "  operationTime: Timestamp({ t: \u001b[33m1708671598\u001b[39m, i: \u001b[33m23\u001b[39m })\n",
      "}\n"
     ]
    }
   ],
   "source": [
    "# View the status of your replica set\n",
    "docker exec -it mongodb-enterprise mongosh --eval \"rs.status()\""
   ]
  },
  {
   "cell_type": "markdown",
   "metadata": {},
   "source": [
    "# Setup MongoDB CSFLE/QE Sample\n",
    "\n",
    "This section demonstrates the KMIP secrets engine and how it functions as a KMIP server with MongoDB Client-Side Field Level Encryption (CSFLE) and Queryable Encryption (QE).\n",
    "\n",
    "Ref:\n",
    "- https://developer.hashicorp.com/vault/docs/secrets/kmip\n",
    "- https://www.mongodb.com/developer/products/atlas/hashicorp-vault-kmip-secrets-engine-mongodb/\n",
    "- https://github.com/mongodb-developer/mongodb-kmip-fle-queryable"
   ]
  },
  {
   "cell_type": "code",
   "execution_count": 6,
   "metadata": {
    "vscode": {
     "languageId": "shellscript"
    }
   },
   "outputs": [
    {
     "name": "stdout",
     "output_type": "stream",
     "text": [
      "Cloning into 'mongodb-kmip-fle-queryable'...\n",
      "remote: Enumerating objects: 54, done.\u001b[K\n",
      "remote: Counting objects: 100% (54/54), done.\u001b[K\n",
      "remote: Compressing objects: 100% (43/43), done.\u001b[K\n",
      "remote: Total 54 (delta 14), reused 48 (delta 10), pack-reused 0\u001b[K\n",
      "Receiving objects: 100% (54/54), 1.86 MiB | 7.75 MiB/s, done.\n",
      "Resolving deltas: 100% (14/14), done.\n"
     ]
    }
   ],
   "source": [
    "# Clone the tutorial repository for CSFLE/QE samples\n",
    "git clone https://github.com/mongodb-developer/mongodb-kmip-fle-queryable\n",
    "\n",
    "# Store the sample path for use later\n",
    "export SAMPLE_PATH=./mongodb-kmip-fle-queryable/kmip-with-hashicorp-key-vault"
   ]
  },
  {
   "cell_type": "markdown",
   "metadata": {},
   "source": [
    "## Step 1 - Enable Vault KMIP Engine"
   ]
  },
  {
   "cell_type": "code",
   "execution_count": 7,
   "metadata": {
    "vscode": {
     "languageId": "shellscript"
    }
   },
   "outputs": [
    {
     "name": "stdout",
     "output_type": "stream",
     "text": [
      "\u001b[0mSuccess! Enabled the kmip secrets engine at: kmip/\u001b[0m\n"
     ]
    }
   ],
   "source": [
    "# Enable KMIP secrets engine at the default mount path\n",
    "#vault secrets disable kmip\n",
    "vault secrets enable kmip"
   ]
  },
  {
   "cell_type": "code",
   "execution_count": 8,
   "metadata": {
    "vscode": {
     "languageId": "shellscript"
    }
   },
   "outputs": [
    {
     "name": "stdout",
     "output_type": "stream",
     "text": [
      "\u001b[0mSuccess! Data written to: kmip/config\u001b[0m\n",
      "\n",
      "\u001b[0mKey                            Value\n",
      "---                            -----\n",
      "default_tls_client_key_bits    256\n",
      "default_tls_client_key_type    ec\n",
      "default_tls_client_ttl         8760h\n",
      "listen_addrs                   [0.0.0.0:5697]\n",
      "server_hostnames               [localhost]\n",
      "server_ips                     [127.0.0.1 ::1]\n",
      "tls_ca_key_bits                256\n",
      "tls_ca_key_type                ec\n",
      "tls_min_version                tls12\u001b[0m\n"
     ]
    }
   ],
   "source": [
    "# Start KMIP Server and set client TLS certificate TTL to 365 days\n",
    "\n",
    "# Option 1 - Elliptic Curve (EC) is the default\n",
    "vault write kmip/config listen_addrs=0.0.0.0:$VAULT_KMIP_PORT default_tls_client_ttl=365d\n",
    "# Option 2 - RSA\n",
    "#vault write kmip/config listen_addrs=0.0.0.0:$VAULT_KMIP_PORT tls_ca_key_type=\"rsa\" tls_ca_key_bits=2048 default_tls_client_ttl=365d\n",
    "\n",
    "# Check the KMIP configuration\n",
    "echo\n",
    "vault read kmip/config"
   ]
  },
  {
   "cell_type": "markdown",
   "metadata": {},
   "source": [
    "## Step 2 - Create KMIP Scope and Role in Vault\n",
    "\n",
    "The KMIP secrets engine uses the concept of scopes to partition KMIP managed object storage into multiple named buckets. Within a scope, roles can be created which dictate the set of allowed operations that the particular role can perform. TLS client certificates can be generated for a role, which services and applications can then use when sending KMIP requests against Vault's KMIP secret engine.\n",
    "\n",
    "In order to generate client certificates for KMIP clients to interact with Vault's KMIP server, we must first create a scope and role and specify the desired set of allowed operations for it."
   ]
  },
  {
   "cell_type": "code",
   "execution_count": 9,
   "metadata": {
    "vscode": {
     "languageId": "shellscript"
    }
   },
   "outputs": [
    {
     "name": "stdout",
     "output_type": "stream",
     "text": [
      "\u001b[0mSuccess! Data written to: kmip/scope/mongodb-svc\u001b[0m\n"
     ]
    }
   ],
   "source": [
    "# Settings for the KMIP scope\n",
    "export KMIP_SVC_NAME=mongodb-svc\n",
    "\n",
    "# Create a scope\n",
    "vault write -f kmip/scope/$KMIP_SVC_NAME"
   ]
  },
  {
   "cell_type": "markdown",
   "metadata": {},
   "source": [
    "# Step 3 - Configure for CSFLE and Test\n",
    "\n",
    "## Step 3a - Create KMIP role for CSFLE"
   ]
  },
  {
   "cell_type": "code",
   "execution_count": 10,
   "metadata": {
    "vscode": {
     "languageId": "shellscript"
    }
   },
   "outputs": [
    {
     "name": "stdout",
     "output_type": "stream",
     "text": [
      "\u001b[0mSuccess! Data written to: kmip/scope/mongodb-svc/role/fle\u001b[0m\n",
      "\n",
      "\u001b[0mKeys\n",
      "----\n",
      "fle\u001b[0m\n"
     ]
    }
   ],
   "source": [
    "# Settings for the KMIP role to be created\n",
    "export KMIP_FLE_ROLE_NAME=fle\n",
    "\n",
    "# Create FLE Role (note the TTL if not set, it uses the default Vault token/lease TTL of 768hrs)\n",
    "vault write kmip/scope/$KMIP_SVC_NAME/role/$KMIP_FLE_ROLE_NAME tls_client_key_bits=2048 tls_client_key_type=rsa operation_all=true tls_client_ttl=365d\n",
    "\n",
    "# List roles and verify the KMIP FLE role has been created\n",
    "echo\n",
    "vault list kmip/scope/$KMIP_SVC_NAME/role"
   ]
  },
  {
   "cell_type": "code",
   "execution_count": 11,
   "metadata": {
    "vscode": {
     "languageId": "shellscript"
    }
   },
   "outputs": [
    {
     "name": "stdout",
     "output_type": "stream",
     "text": [
      "\u001b[0mKey                    Value\n",
      "---                    -----\n",
      "operation_all          true\n",
      "tls_client_key_bits    2048\n",
      "tls_client_key_type    rsa\n",
      "tls_client_ttl         8760h\u001b[0m\n"
     ]
    }
   ],
   "source": [
    "# Optional - View the FLE role details\n",
    "vault read kmip/scope/$KMIP_SVC_NAME/role/$KMIP_FLE_ROLE_NAME"
   ]
  },
  {
   "cell_type": "markdown",
   "metadata": {},
   "source": [
    "## Step 3b - Create the KMIP certificates for MongoDB CSFLE"
   ]
  },
  {
   "cell_type": "code",
   "execution_count": 12,
   "metadata": {
    "vscode": {
     "languageId": "shellscript"
    }
   },
   "outputs": [
    {
     "name": "stdout",
     "output_type": "stream",
     "text": [
      "Sample Path: ./mongodb-kmip-fle-queryable/kmip-with-hashicorp-key-vault\n"
     ]
    }
   ],
   "source": [
    "# Folder that is used by the CSFLE sample to store the KMIP certificates\n",
    "echo \"Sample Path: $SAMPLE_PATH\"\n",
    "export FLE_CERT_PATH=$SAMPLE_PATH/vault/certs/FLE\n",
    "\n",
    "# Save KMIP CA certificate\n",
    "vault read -format=json kmip/ca | jq -r .data.ca_pem > $FLE_CERT_PATH/vv-ca.pem    \n",
    "\n",
    "# Create KMIP client certificates\n",
    "vault write -format=json kmip/scope/$KMIP_SVC_NAME/role/$KMIP_FLE_ROLE_NAME/credential/generate format=pem > fle_credential.json\n",
    "jq -r .data.certificate < fle_credential.json > $FLE_CERT_PATH/vv-cert.pem\n",
    "jq -r .data.private_key < fle_credential.json > $FLE_CERT_PATH/vv-key.pem    \n",
    "cat $FLE_CERT_PATH/vv-cert.pem $FLE_CERT_PATH/vv-key.pem > $FLE_CERT_PATH/vv-client.pem\n",
    "\n",
    "# Cleanup temp json\n",
    "rm fle_credential.json"
   ]
  },
  {
   "cell_type": "markdown",
   "metadata": {},
   "source": [
    "## Step 3c - Update the CSFLE Sample Connection String"
   ]
  },
  {
   "cell_type": "code",
   "execution_count": 13,
   "metadata": {
    "vscode": {
     "languageId": "shellscript"
    }
   },
   "outputs": [
    {
     "name": "stdout",
     "output_type": "stream",
     "text": [
      "encrypted_namespace = \"DEMO-KMIP-FLE.users\"\n",
      "key_vault_namespace = \"DEMO-KMIP-FLE.datakeys\"\n",
      "connection_uri = \"mongodb://127.0.0.1:27017/admin?replicaSet=rs0&retryWrites=true&directConnection=true\"\n",
      "\n",
      "# Configure the \"kmip\" provider.\n",
      "kms_providers = {\n",
      "    \"kmip\": {\n",
      "        \"endpoint\": \"localhost:5697\"\n",
      "    }\n",
      "}\n",
      "kms_tls_options = {\n",
      "    \"kmip\": {\n",
      "        \"tlsCAFile\": \"vault/certs/FLE/vv-ca.pem\",\n",
      "        \"tlsCertificateKeyFile\": \"vault/certs/FLE/vv-client.pem\"\n",
      "    }\n",
      "}\n"
     ]
    }
   ],
   "source": [
    "# Replace this line in the configuration_fle.py file \n",
    "#   connection_uri = \"mongodb+srv://<USER>:<PASSWORD>@<CLUSTER-NAME>?retryWrites=true&w=majority\"\n",
    "# with this\n",
    "#   connection_uri = \"mongodb://127.0.0.1:27017/admin?replicaSet=rs0&retryWrites=true&directConnection=true\"\n",
    "# Replace the connection string\n",
    "# Escape \"/\"\" with \"\\/\"\" and \"&\"\" with \"\\&\"\"\n",
    "sed -i '' 's/mongodb+srv:\\/\\/<USER>:<PASSWORD>@<CLUSTER-NAME>?retryWrites=true&w=majority/mongodb:\\/\\/127.0.0.1:27017\\/admin?replicaSet=rs0\\&retryWrites=true\\&directConnection=true/g' $SAMPLE_PATH/configuration_fle.py\n",
    "\n",
    "# Show updated configuration_fle.py.  Verify that the connection_uri value has been updated.\n",
    "cat $SAMPLE_PATH/configuration_fle.py"
   ]
  },
  {
   "cell_type": "markdown",
   "metadata": {},
   "source": [
    "## Step 3d - Test the CSFLE Sample"
   ]
  },
  {
   "cell_type": "code",
   "execution_count": 21,
   "metadata": {
    "vscode": {
     "languageId": "shellscript"
    }
   },
   "outputs": [
    {
     "name": "stdout",
     "output_type": "stream",
     "text": [
      "Sample Path: ./mongodb-kmip-fle-queryable/kmip-with-hashicorp-key-vault\n",
      "CSFLE Encryption: Decrypted document:\n",
      "===================\n",
      "{'_id': ObjectId('65d8436dd4785a5f16678c77'),\n",
      " 'address': {'city': 'Omaha', 'street': '123 Main', 'zip': '90210'},\n",
      " 'contact': {'email': 'alan@example.com', 'mobile': '202-555-1212'},\n",
      " 'firstName': 'Alan',\n",
      " 'lastName': 'Turing',\n",
      " 'ssn': '901-01-0001'}\n",
      "CSFLE Encryption: Encrypted document:\n",
      "===================\n",
      "{'_id': ObjectId('65d8436dd4785a5f16678c77'),\n",
      " 'address': {'city': 'Omaha', 'street': '123 Main', 'zip': '90210'},\n",
      " 'contact': {'email': Binary(b'\\x02\\x85T\\xe2\\xfa\\x16MK\\xdb\\xb7\\xc1A\\xc9o\\xe6\\\\\\x95\\x02}g\\x95\\xd8OHI<9\\x12v\\xe4\\xdd\\x1c\\x81NPm\\x8a\\x92\\x8e?kP\\xb0H\\x80\\nw\\x05\\xcf\\xae\\xea0\\xc0?\\x9f<\\x98\\x841\\x83U\\x00\\xbb\\x91\\xc6\\x17\\xce3\\xcbu^\\x12\\xbeO\\xae\\xcc\\xcf\\xbf\\xeb\\x1bR\\x1c$\\x1f!\\xc6\\xbb\\t\\x01\\x13\\x1b\\xf2\\x0b\\x18\\x12\\xb6v\\x96', 6),\n",
      "             'mobile': Binary(b'\\x01\\x85T\\xe2\\xfa\\x16MK\\xdb\\xb7\\xc1A\\xc9o\\xe6\\\\\\x95\\x02\\xad\\x97\\xf7\\x9d\\x93\\x88\\xd7U#\\xdf#\\x8c\\xc7\\xa0/\\xb3X\\xedh\\x94\\xda\\xbf;hQx\\x1f\\x173\\xdc\\xcb\\xa8g\\xb5\\x84\\x81~T\\x1cp@-\\x99E\\x87\\xa1\\x1a\\xc4F\\xf3F\\xecIzol\\xdd~\\xafB\\x0b\\x93:\\x1e\\x8a\\xc2\\xcd\\x183\\xff\\xe3|C\\xde\\r\\x8e~t\\x9a\\x9a', 6)},\n",
      " 'firstName': 'Alan',\n",
      " 'lastName': 'Turing',\n",
      " 'ssn': Binary(b'\\x01<\\xc4\\xd4[\\x8a\\x83L\\xe6\\x8c\\xc2SI!\\xbe\\xb5y\\x02PG\\x96\\x1a\"\\xe2\\xcf\\xbc\\'hZ\\xce\\x13kW\\xa0\\xcb\\xd6\\x10\\xa6>%\\x86\\xc8\\x9b\\xfcu\\x12\\xcd/Q\\xf0\\x9eQ7\\x91\\x02\\xdd\\x0c\\xd4\\x03\\xd5\\xd9N8<\\xfd\\xc8\\x04\\xd1]\\xc7P\\xaa\\xf1r\\x0b\\xd7q\\xbe\\xdfpr[7\\x81\\x18.\\xcc\\x14\\x91k\\x0c\\xbd\\xaa\\xf1\\xc6\\xa4\\xe7\\xde', 6)}\n"
     ]
    }
   ],
   "source": [
    "# Test the CSFLE sample.  This script demonstrates encrypt and decrypt functions with the HashiCorp Vault KMIP provider.\n",
    "# Change to the script directory before running as the scripts are hard-code to find the client certs in /vault/certs/FLE\n",
    "echo \"Sample Path: $SAMPLE_PATH\"\n",
    "cd $SAMPLE_PATH\n",
    "python3 vault_encrypt_with_csfle_kmip.py\n",
    "cd ../.."
   ]
  },
  {
   "cell_type": "markdown",
   "metadata": {},
   "source": [
    "# Step 4 - Configure for QE and Test\n",
    "\n",
    "## Step 4a - Create KMIP role for QE"
   ]
  },
  {
   "cell_type": "code",
   "execution_count": null,
   "metadata": {
    "vscode": {
     "languageId": "shellscript"
    }
   },
   "outputs": [],
   "source": [
    "# Settings for the KMIP role to be created\n",
    "export KMIP_QE_ROLE_NAME=qe\n",
    "\n",
    "# Create FLE Role (note the TTL if not set, it uses the default Vault token/lease TTL of 768hrs)\n",
    "vault write kmip/scope/$KMIP_SVC_NAME/role/$KMIP_QE_ROLE_NAME tls_client_key_bits=2048 tls_client_key_type=rsa operation_all=true tls_client_ttl=365d\n",
    "\n",
    "# List roles and verify the QE KMIP role has been created\n",
    "echo\n",
    "vault list kmip/scope/$KMIP_SVC_NAME/role"
   ]
  },
  {
   "cell_type": "code",
   "execution_count": null,
   "metadata": {
    "vscode": {
     "languageId": "shellscript"
    }
   },
   "outputs": [],
   "source": [
    "# Optional - View the QE role details\n",
    "vault read kmip/scope/$KMIP_SVC_NAME/role/$KMIP_QE_ROLE_NAME"
   ]
  },
  {
   "cell_type": "markdown",
   "metadata": {},
   "source": [
    "## Step 4b - Create the KMIP certificates for MongoDB QE"
   ]
  },
  {
   "cell_type": "code",
   "execution_count": null,
   "metadata": {
    "vscode": {
     "languageId": "shellscript"
    }
   },
   "outputs": [],
   "source": [
    "# Folder that is used by the QE sample to store the KMIP certificates\n",
    "echo \"Sample Path: $SAMPLE_PATH\"\n",
    "export QE_CERT_PATH=$SAMPLE_PATH/vault/certs/QUERYABLE\n",
    "\n",
    "# Save KMIP CA certificate\n",
    "vault read -format=json kmip/ca | jq -r .data.ca_pem > $QE_CERT_PATH/vv-ca.pem    \n",
    "\n",
    "# Create KMIP client certificates\n",
    "vault write -format=json kmip/scope/$KMIP_SVC_NAME/role/$KMIP_QE_ROLE_NAME/credential/generate format=pem > qe_credential.json\n",
    "jq -r .data.certificate < qe_credential.json > $QE_CERT_PATH/vv-cert.pem\n",
    "jq -r .data.private_key < qe_credential.json > $QE_CERT_PATH/vv-key.pem    \n",
    "cat $QE_CERT_PATH/vv-cert.pem $QE_CERT_PATH/vv-key.pem > $QE_CERT_PATH/vv-client.pem\n",
    "\n",
    "# Cleanup temp json\n",
    "rm qe_credential.json"
   ]
  },
  {
   "cell_type": "markdown",
   "metadata": {},
   "source": [
    "## Step 4c - Update the QE Sample Connection String"
   ]
  },
  {
   "cell_type": "code",
   "execution_count": null,
   "metadata": {
    "vscode": {
     "languageId": "shellscript"
    }
   },
   "outputs": [],
   "source": [
    "# Replace this line in the configuration_queryable.py file \n",
    "#   connection_uri = \"mongodb+srv://<USER>:<PASSWORD>@<CLUSTER-NAME>?retryWrites=true&w=majority\"\n",
    "# with this\n",
    "#   connection_uri = \"mongodb://127.0.0.1:27017/admin?replicaSet=rs0&retryWrites=true&directConnection=true\"\n",
    "# Replace the connection string\n",
    "# Escape \"/\"\" with \"\\/\"\" and \"&\"\" with \"\\&\"\"\n",
    "sed -i '' 's/mongodb+srv:\\/\\/<USER>:<PASSWORD>@<CLUSTER-NAME>?retryWrites=true&w=majority/mongodb:\\/\\/127.0.0.1:27017\\/admin?replicaSet=rs0\\&retryWrites=true\\&directConnection=true/g' $SAMPLE_PATH/configuration_queryable.py\n",
    "\n",
    "# Show updated configuration_fle.py.  Verify that the connection_uri value has been updated.\n",
    "cat $SAMPLE_PATH/configuration_queryable.py"
   ]
  },
  {
   "cell_type": "markdown",
   "metadata": {},
   "source": [
    "## Step 4d - Test the QE Sample"
   ]
  },
  {
   "cell_type": "code",
   "execution_count": null,
   "metadata": {
    "vscode": {
     "languageId": "shellscript"
    }
   },
   "outputs": [],
   "source": [
    "# Test the CSFLE sample.  This script demonstrates encrypt and decrypt functions with the HashiCorp Vault KMIP provider.\n",
    "# Change to the script directory before running as the scripts are hard-code to find the client certs in /vault/certs/FLE\n",
    "echo \"Sample Path: $SAMPLE_PATH\"\n",
    "cd $SAMPLE_PATH\n",
    "python3 vault_encrypt_with_queryable_kmip.py\n",
    "cd ../.."
   ]
  },
  {
   "cell_type": "markdown",
   "metadata": {},
   "source": [
    "# Cleanup"
   ]
  },
  {
   "cell_type": "code",
   "execution_count": null,
   "metadata": {
    "vscode": {
     "languageId": "shellscript"
    }
   },
   "outputs": [],
   "source": [
    "# Cleanup\n",
    "\n",
    "# Disable KMIP secrets engine\n",
    "vault secrets disable kmip\n",
    "\n",
    "# Stop Vault container\n",
    "docker stop vault-enterprise\n",
    "\n",
    "# Stop MongoDB container\n",
    "docker stop mongodb-enterprise\n",
    "\n",
    "# Remove KMIP certificate demo files\n",
    "rm -rf mongodb-kmip-fle-queryable"
   ]
  }
 ],
 "metadata": {
  "kernelspec": {
   "display_name": "Bash",
   "language": "bash",
   "name": "bash"
  },
  "language_info": {
   "codemirror_mode": "shell",
   "file_extension": ".sh",
   "mimetype": "text/x-sh",
   "name": "bash"
  },
  "orig_nbformat": 4
 },
 "nbformat": 4,
 "nbformat_minor": 2
}
