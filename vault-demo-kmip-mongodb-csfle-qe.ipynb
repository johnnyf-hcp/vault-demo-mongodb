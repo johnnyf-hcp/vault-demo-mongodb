{
 "cells": [
  {
   "cell_type": "markdown",
   "metadata": {},
   "source": [
    "# HashiCorp Vault Demo for KMIP Secrets Engine and MongoDB Client-Side Field Level Encryption (CSFLE) & Queryable Encryption (QE)\n",
    "\n",
    "With MongoDB’s Client-Side Field Level Encryption (CSFLE) and Queryable Encryption (QE), applications can encrypt sensitive plain text fields in documents prior to transmitting data to the server. This means that data processed by database (in use) will not be in plain text as it’s always encrypted and most importantly still can be queried (QE). \n",
    "\n",
    "This demo showcases how MongoDB CSFLE and QE uses HashiCorp Vault's KMIP Secrets Engine to manage encryption keys via KMIP protocol.\n",
    "\n",
    "Note: MongoDB Community & Enterprise server editions have the same developer features (queries, aggregation, replication, sharding, etc).  MongoDB Enterprise Advanced adds:\n",
    "- Operational & security features (In-memory storage engine, Auditing, Kerberos & LDAP authentication, Encryption at Rest). https://www.mongodb.com/docs/manual/administration/upgrade-community-to-enterprise/\n",
    "- Entitlements to use additional tools including Ops Manager, BI Connector, and Enterprise Operator for Kubernetes.\n",
    "\n",
    "CSFLE is offered on both Community and Enterprise Edition. The Enterprise edition can perform automatic encryption based on JSONSchema (which is also used by the mongocryptd library). For the community edition the application will be responsible for performing this encryption. \n",
    "- https://www.mongodb.com/docs/manual/core/csfle/reference/compatibility/\n",
    "- https://www.mongodb.com/docs/manual/core/queryable-encryption/reference/compatibility/\n",
    "\n",
    "<img src=\"images/vault-demo-kmip-mongodb-csfle-qe.png\">\n",
    "\n",
    "## Setup of the Demo\n",
    "\n",
    "This setup is tested on MacOS and is meant to simulate a distributed setup.  The components used in this demo are:\n",
    "- Vault Enterprise installed on docker (to simulate an external Vault)\n",
    "- MongoDB Enterprise installed on docker (to simulate an external MongoDB)\n",
    "- You have the Vault CLI installed\n",
    "\n",
    "This assumes your Vault server is installed using docker and already running on http://127.0.0.1:8200\n",
    "and you have set your VAULT_ADDR and VAULT_TOKEN variables.\n",
    "\n",
    "Note: You will need Vault to be installed with an ADP KMIP license add-on.  Also note that a Premium license is required if you wish the KMIP listener to scale on the Vault cluster.  For Standard or Plus license, the KMIP listener is only on the leader node.\n",
    "\n",
    "## Requirements to Run This Demo\n",
    "You will need Visual Studio Code to be installed with the Jupyter plugin.  To run this notebook in VS Code, chose the Jupyter kernel and then Bash.\n",
    "- To run the current cell, use Ctrl + Enter.\n",
    "- To run the current cell and advance to the next, use Shift+Enter."
   ]
  },
  {
   "cell_type": "markdown",
   "metadata": {},
   "source": [
    "# Setup Pre-requisites (One-time)\n",
    "\n",
    "Assumes you have docker installed and brew installed\n",
    "\n",
    "- https://docs.docker.com/desktop/install/mac-install/\n",
    "- https://brew.sh/"
   ]
  },
  {
   "cell_type": "code",
   "execution_count": null,
   "metadata": {
    "vscode": {
     "languageId": "shellscript"
    }
   },
   "outputs": [],
   "source": [
    "# Make sure Python 3 is installed for the tutorial python scripts to run\n",
    "brew install python3"
   ]
  },
  {
   "cell_type": "code",
   "execution_count": null,
   "metadata": {
    "vscode": {
     "languageId": "shellscript"
    }
   },
   "outputs": [],
   "source": [
    "# Install python dependencies for the CSFLE/QE python script samples\n",
    "python3 -m pip install pymongo\n",
    "python3 -m pip install 'pymongo[encryption]'\n"
   ]
  },
  {
   "cell_type": "code",
   "execution_count": null,
   "metadata": {
    "vscode": {
     "languageId": "shellscript"
    }
   },
   "outputs": [],
   "source": [
    "# Optional: To upgrade, uninstall current version\n",
    "python3 -m pip install --upgrade pymongo\n",
    "python3 -m pip install --upgrade 'pymongo[encryption]'\n"
   ]
  },
  {
   "cell_type": "code",
   "execution_count": null,
   "metadata": {
    "vscode": {
     "languageId": "shellscript"
    }
   },
   "outputs": [],
   "source": [
    "# Optional: To uninstall pymongo\n",
    "python3 -m pip uninstall -y pymongo\n"
   ]
  },
  {
   "cell_type": "code",
   "execution_count": null,
   "metadata": {
    "vscode": {
     "languageId": "shellscript"
    }
   },
   "outputs": [],
   "source": [
    "# Optional: Check pymongo version that you are using\n",
    "python3 -m pip list | grep pymongo"
   ]
  },
  {
   "cell_type": "markdown",
   "metadata": {},
   "source": [
    "# Setting up HashiCorp Vault"
   ]
  },
  {
   "cell_type": "code",
   "execution_count": null,
   "metadata": {
    "vscode": {
     "languageId": "shellscript"
    }
   },
   "outputs": [],
   "source": [
    "# Optional.  The following are some sample commands for running Vault Enterprise in docker.\n",
    "# Expose both the Vault API and the KMIP ports to the host machine.\n",
    "# We will be using 5697 instead of 5696 for the KMIP port as the CSFLE/QE samples are already configured for that port\n",
    "export VAULT_PORT=8200\n",
    "export VAULT_KMIP_PORT=5697\n",
    "export VAULT_ADDR=\"http://127.0.0.1:${VAULT_PORT}\"\n",
    "export VAULT_TOKEN=\"root\"\n",
    "# Change the path to your license file\n",
    "export VAULT_LICENSE=$(cat $HOME/vault-enterprise/vault_local/data/vault.hclic)\n",
    "docker run -d --rm --name vault-enterprise --cap-add=IPC_LOCK \\\n",
    "-e \"VAULT_DEV_ROOT_TOKEN_ID=${VAULT_TOKEN}\" \\\n",
    "-e \"VAULT_DEV_LISTEN_ADDRESS=:${VAULT_PORT}\" \\\n",
    "-e \"VAULT_LICENSE=${VAULT_LICENSE}\" \\\n",
    "-p ${VAULT_KMIP_PORT}:${VAULT_KMIP_PORT} \\\n",
    "-p ${VAULT_PORT}:${VAULT_PORT} hashicorp/vault-enterprise:latest"
   ]
  },
  {
   "cell_type": "markdown",
   "metadata": {},
   "source": [
    "# Setting up MongDB Enterprise\n",
    "\n",
    "Note: Queryable Encryption does not work on a standalone instance.  Needs either a replica set or a sharded cluster.  For this demo, we will be using a single node replica set.\n",
    "Ref: https://www.mongodb.com/community/forums/t/i-found-an-error-when-trying-to-use-mongodbs-queryable-encryption/188433/4"
   ]
  },
  {
   "cell_type": "code",
   "execution_count": null,
   "metadata": {
    "vscode": {
     "languageId": "shellscript"
    }
   },
   "outputs": [],
   "source": [
    "# Run MongoDB Enterprise in docker.  Expose the MongoDB port to the host machine. \n",
    "export MONGODB_PORT=27017\n",
    "# Use latest 7.0 MongoDB Enterprise docker image.  This supports both linux/amd64 and linux/arm64\n",
    "export MONGODB_TAG=7.0-ubuntu2204\n",
    "# For UBI images\n",
    "#export MONGODB_TAG=7.0-ubi8\n",
    "\n",
    "docker run -d --rm -p ${MONGODB_PORT}:${MONGODB_PORT} --name mongodb-enterprise \\\n",
    "mongodb/mongodb-enterprise-server:$MONGODB_TAG mongod --replSet rs0 --port $MONGODB_PORT  \\\n",
    "--bind_ip \"0.0.0.0\""
   ]
  },
  {
   "cell_type": "code",
   "execution_count": null,
   "metadata": {
    "vscode": {
     "languageId": "shellscript"
    }
   },
   "outputs": [],
   "source": [
    "# Initialize the replica set with a default configuration set\n",
    "# Ref: https://www.mongodb.com/docs/manual/reference/method/rs.initiate/\n",
    "docker exec -it mongodb-enterprise mongosh --eval \"rs.initiate()\""
   ]
  },
  {
   "cell_type": "code",
   "execution_count": null,
   "metadata": {
    "vscode": {
     "languageId": "shellscript"
    }
   },
   "outputs": [],
   "source": [
    "# View the status of your replica set\n",
    "docker exec -it mongodb-enterprise mongosh --eval \"rs.status()\""
   ]
  },
  {
   "cell_type": "markdown",
   "metadata": {},
   "source": [
    "# Setup MongoDB CSFLE/QE Sample\n",
    "\n",
    "This section demonstrates the KMIP secrets engine and how it functions as a KMIP server with MongoDB Client-Side Field Level Encryption (CSFLE) and Queryable Encryption (QE).\n",
    "\n",
    "Ref:\n",
    "- https://developer.hashicorp.com/vault/docs/secrets/kmip\n",
    "- https://www.mongodb.com/developer/products/atlas/hashicorp-vault-kmip-secrets-engine-mongodb/\n",
    "- https://github.com/mongodb-developer/mongodb-kmip-fle-queryable"
   ]
  },
  {
   "cell_type": "code",
   "execution_count": null,
   "metadata": {
    "vscode": {
     "languageId": "shellscript"
    }
   },
   "outputs": [],
   "source": [
    "# Clone the tutorial repository for CSFLE/QE samples\n",
    "git clone https://github.com/mongodb-developer/mongodb-kmip-fle-queryable\n",
    "\n",
    "# Store the sample path for use later\n",
    "export SAMPLE_PATH=./mongodb-kmip-fle-queryable/kmip-with-hashicorp-key-vault"
   ]
  },
  {
   "cell_type": "markdown",
   "metadata": {},
   "source": [
    "## Step 1 - Enable Vault KMIP Engine"
   ]
  },
  {
   "cell_type": "code",
   "execution_count": null,
   "metadata": {
    "vscode": {
     "languageId": "shellscript"
    }
   },
   "outputs": [],
   "source": [
    "# Enable KMIP secrets engine at the default mount path\n",
    "#vault secrets disable kmip\n",
    "vault secrets enable kmip"
   ]
  },
  {
   "cell_type": "code",
   "execution_count": null,
   "metadata": {
    "vscode": {
     "languageId": "shellscript"
    }
   },
   "outputs": [],
   "source": [
    "# Start KMIP Server and set client TLS certificate TTL to 365 days\n",
    "\n",
    "# Option 1 - Elliptic Curve (EC) is the default\n",
    "vault write kmip/config listen_addrs=0.0.0.0:$VAULT_KMIP_PORT default_tls_client_ttl=365d\n",
    "# Option 2 - RSA\n",
    "#vault write kmip/config listen_addrs=0.0.0.0:$VAULT_KMIP_PORT tls_ca_key_type=\"rsa\" tls_ca_key_bits=2048 default_tls_client_ttl=365d\n",
    "\n",
    "# Check the KMIP configuration\n",
    "echo\n",
    "vault read kmip/config"
   ]
  },
  {
   "cell_type": "markdown",
   "metadata": {},
   "source": [
    "## Step 2 - Create KMIP Scope and Role in Vault\n",
    "\n",
    "The KMIP secrets engine uses the concept of scopes to partition KMIP managed object storage into multiple named buckets. Within a scope, roles can be created which dictate the set of allowed operations that the particular role can perform. TLS client certificates can be generated for a role, which services and applications can then use when sending KMIP requests against Vault's KMIP secret engine.\n",
    "\n",
    "In order to generate client certificates for KMIP clients to interact with Vault's KMIP server, we must first create a scope and role and specify the desired set of allowed operations for it."
   ]
  },
  {
   "cell_type": "code",
   "execution_count": null,
   "metadata": {
    "vscode": {
     "languageId": "shellscript"
    }
   },
   "outputs": [],
   "source": [
    "# Settings for the KMIP scope\n",
    "export KMIP_SVC_NAME=mongodb-svc\n",
    "\n",
    "# Create a scope\n",
    "vault write -f kmip/scope/$KMIP_SVC_NAME"
   ]
  },
  {
   "cell_type": "markdown",
   "metadata": {},
   "source": [
    "# Step 3 - Configure for CSFLE and Test\n",
    "\n",
    "## Step 3a - Create KMIP role for CSFLE"
   ]
  },
  {
   "cell_type": "code",
   "execution_count": null,
   "metadata": {
    "vscode": {
     "languageId": "shellscript"
    }
   },
   "outputs": [],
   "source": [
    "# Settings for the KMIP role to be created\n",
    "export KMIP_FLE_ROLE_NAME=fle\n",
    "\n",
    "# Create FLE Role (note the TTL if not set, it uses the default Vault token/lease TTL of 768hrs)\n",
    "vault write kmip/scope/$KMIP_SVC_NAME/role/$KMIP_FLE_ROLE_NAME tls_client_key_bits=2048 tls_client_key_type=rsa operation_all=true tls_client_ttl=365d\n",
    "\n",
    "# List roles and verify the KMIP FLE role has been created\n",
    "echo\n",
    "vault list kmip/scope/$KMIP_SVC_NAME/role"
   ]
  },
  {
   "cell_type": "code",
   "execution_count": null,
   "metadata": {
    "vscode": {
     "languageId": "shellscript"
    }
   },
   "outputs": [],
   "source": [
    "# Optional - View the FLE role details\n",
    "vault read kmip/scope/$KMIP_SVC_NAME/role/$KMIP_FLE_ROLE_NAME"
   ]
  },
  {
   "cell_type": "markdown",
   "metadata": {},
   "source": [
    "## Step 3b - Create the KMIP certificates for MongoDB CSFLE"
   ]
  },
  {
   "cell_type": "code",
   "execution_count": null,
   "metadata": {
    "vscode": {
     "languageId": "shellscript"
    }
   },
   "outputs": [],
   "source": [
    "# Folder that is used by the CSFLE sample to store the KMIP certificates\n",
    "echo \"Sample Path: $SAMPLE_PATH\"\n",
    "export FLE_CERT_PATH=$SAMPLE_PATH/vault/certs/FLE\n",
    "\n",
    "# Save KMIP CA certificate\n",
    "vault read -format=json kmip/ca | jq -r .data.ca_pem > $FLE_CERT_PATH/vv-ca.pem    \n",
    "\n",
    "# Create KMIP client certificates\n",
    "vault write -format=json kmip/scope/$KMIP_SVC_NAME/role/$KMIP_FLE_ROLE_NAME/credential/generate format=pem > fle_credential.json\n",
    "jq -r .data.certificate < fle_credential.json > $FLE_CERT_PATH/vv-cert.pem\n",
    "jq -r .data.private_key < fle_credential.json > $FLE_CERT_PATH/vv-key.pem    \n",
    "cat $FLE_CERT_PATH/vv-cert.pem $FLE_CERT_PATH/vv-key.pem > $FLE_CERT_PATH/vv-client.pem\n",
    "\n",
    "# Cleanup temp json\n",
    "rm fle_credential.json"
   ]
  },
  {
   "cell_type": "markdown",
   "metadata": {},
   "source": [
    "## Step 3c - Update the CSFLE Sample Connection String"
   ]
  },
  {
   "cell_type": "code",
   "execution_count": null,
   "metadata": {
    "vscode": {
     "languageId": "shellscript"
    }
   },
   "outputs": [],
   "source": [
    "# Replace this line in the configuration_fle.py file \n",
    "#   connection_uri = \"mongodb+srv://<USER>:<PASSWORD>@<CLUSTER-NAME>?retryWrites=true&w=majority\"\n",
    "# with this\n",
    "#   connection_uri = \"mongodb://127.0.0.1:27017/admin?replicaSet=rs0&retryWrites=true&directConnection=true\"\n",
    "# Replace the connection string\n",
    "# Escape \"/\"\" with \"\\/\"\" and \"&\"\" with \"\\&\"\"\n",
    "sed -i '' 's/mongodb+srv:\\/\\/<USER>:<PASSWORD>@<CLUSTER-NAME>?retryWrites=true&w=majority/mongodb:\\/\\/127.0.0.1:27017\\/admin?replicaSet=rs0\\&retryWrites=true\\&directConnection=true/g' $SAMPLE_PATH/configuration_fle.py\n",
    "\n",
    "# Show updated configuration_fle.py.  Verify that the connection_uri value has been updated.\n",
    "cat $SAMPLE_PATH/configuration_fle.py"
   ]
  },
  {
   "cell_type": "markdown",
   "metadata": {},
   "source": [
    "## Step 3d - Test the CSFLE Sample"
   ]
  },
  {
   "cell_type": "code",
   "execution_count": null,
   "metadata": {
    "vscode": {
     "languageId": "shellscript"
    }
   },
   "outputs": [],
   "source": [
    "# Test the CSFLE sample.  This script demonstrates encrypt and decrypt functions with the HashiCorp Vault KMIP provider.\n",
    "# Change to the script directory before running as the scripts are hard-code to find the client certs in /vault/certs/FLE\n",
    "echo \"Sample Path: $SAMPLE_PATH\"\n",
    "cd $SAMPLE_PATH\n",
    "python3 vault_encrypt_with_csfle_kmip.py\n",
    "cd ../.."
   ]
  },
  {
   "cell_type": "markdown",
   "metadata": {},
   "source": [
    "# Step 4 - Configure for QE and Test\n",
    "\n",
    "## Step 4a - Create KMIP role for QE"
   ]
  },
  {
   "cell_type": "code",
   "execution_count": null,
   "metadata": {
    "vscode": {
     "languageId": "shellscript"
    }
   },
   "outputs": [],
   "source": [
    "# Settings for the KMIP role to be created\n",
    "export KMIP_QE_ROLE_NAME=qe\n",
    "\n",
    "# Create FLE Role (note the TTL if not set, it uses the default Vault token/lease TTL of 768hrs)\n",
    "vault write kmip/scope/$KMIP_SVC_NAME/role/$KMIP_QE_ROLE_NAME tls_client_key_bits=2048 tls_client_key_type=rsa operation_all=true tls_client_ttl=365d\n",
    "\n",
    "# List roles and verify the QE KMIP role has been created\n",
    "echo\n",
    "vault list kmip/scope/$KMIP_SVC_NAME/role"
   ]
  },
  {
   "cell_type": "code",
   "execution_count": null,
   "metadata": {
    "vscode": {
     "languageId": "shellscript"
    }
   },
   "outputs": [],
   "source": [
    "# Optional - View the QE role details\n",
    "vault read kmip/scope/$KMIP_SVC_NAME/role/$KMIP_QE_ROLE_NAME"
   ]
  },
  {
   "cell_type": "markdown",
   "metadata": {},
   "source": [
    "## Step 4b - Create the KMIP certificates for MongoDB QE"
   ]
  },
  {
   "cell_type": "code",
   "execution_count": null,
   "metadata": {
    "vscode": {
     "languageId": "shellscript"
    }
   },
   "outputs": [],
   "source": [
    "# Folder that is used by the QE sample to store the KMIP certificates\n",
    "echo \"Sample Path: $SAMPLE_PATH\"\n",
    "export QE_CERT_PATH=$SAMPLE_PATH/vault/certs/QUERYABLE\n",
    "\n",
    "# Save KMIP CA certificate\n",
    "vault read -format=json kmip/ca | jq -r .data.ca_pem > $QE_CERT_PATH/vv-ca.pem    \n",
    "\n",
    "# Create KMIP client certificates\n",
    "vault write -format=json kmip/scope/$KMIP_SVC_NAME/role/$KMIP_QE_ROLE_NAME/credential/generate format=pem > qe_credential.json\n",
    "jq -r .data.certificate < qe_credential.json > $QE_CERT_PATH/vv-cert.pem\n",
    "jq -r .data.private_key < qe_credential.json > $QE_CERT_PATH/vv-key.pem    \n",
    "cat $QE_CERT_PATH/vv-cert.pem $QE_CERT_PATH/vv-key.pem > $QE_CERT_PATH/vv-client.pem\n",
    "\n",
    "# Cleanup temp json\n",
    "rm qe_credential.json"
   ]
  },
  {
   "cell_type": "markdown",
   "metadata": {},
   "source": [
    "## Step 4c - Update the QE Sample Connection String"
   ]
  },
  {
   "cell_type": "code",
   "execution_count": null,
   "metadata": {
    "vscode": {
     "languageId": "shellscript"
    }
   },
   "outputs": [],
   "source": [
    "# Replace this line in the configuration_queryable.py file \n",
    "#   connection_uri = \"mongodb+srv://<USER>:<PASSWORD>@<CLUSTER-NAME>?retryWrites=true&w=majority\"\n",
    "# with this\n",
    "#   connection_uri = \"mongodb://127.0.0.1:27017/admin?replicaSet=rs0&retryWrites=true&directConnection=true\"\n",
    "# Replace the connection string\n",
    "# Escape \"/\"\" with \"\\/\"\" and \"&\"\" with \"\\&\"\"\n",
    "sed -i '' 's/mongodb+srv:\\/\\/<USER>:<PASSWORD>@<CLUSTER-NAME>?retryWrites=true&w=majority/mongodb:\\/\\/127.0.0.1:27017\\/admin?replicaSet=rs0\\&retryWrites=true\\&directConnection=true/g' $SAMPLE_PATH/configuration_queryable.py\n",
    "\n",
    "# Show updated configuration_fle.py.  Verify that the connection_uri value has been updated.\n",
    "cat $SAMPLE_PATH/configuration_queryable.py"
   ]
  },
  {
   "cell_type": "markdown",
   "metadata": {},
   "source": [
    "## Step 4d - Test the QE Sample"
   ]
  },
  {
   "cell_type": "code",
   "execution_count": null,
   "metadata": {
    "vscode": {
     "languageId": "shellscript"
    }
   },
   "outputs": [],
   "source": [
    "# Test the CSFLE sample.  This script demonstrates encrypt and decrypt functions with the HashiCorp Vault KMIP provider.\n",
    "# Change to the script directory before running as the scripts are hard-code to find the client certs in /vault/certs/FLE\n",
    "echo \"Sample Path: $SAMPLE_PATH\"\n",
    "cd $SAMPLE_PATH\n",
    "python3 vault_encrypt_with_queryable_kmip.py\n",
    "cd ../.."
   ]
  },
  {
   "cell_type": "markdown",
   "metadata": {},
   "source": [
    "# Cleanup"
   ]
  },
  {
   "cell_type": "code",
   "execution_count": null,
   "metadata": {
    "vscode": {
     "languageId": "shellscript"
    }
   },
   "outputs": [],
   "source": [
    "# Cleanup\n",
    "\n",
    "# Disable KMIP secrets engine\n",
    "vault secrets disable kmip\n",
    "\n",
    "# Stop Vault container\n",
    "docker stop vault-enterprise\n",
    "\n",
    "# Stop MongoDB container\n",
    "docker stop mongodb-enterprise\n",
    "\n",
    "# Remove KMIP certificate demo files\n",
    "rm -rf mongodb-kmip-fle-queryable"
   ]
  }
 ],
 "metadata": {
  "kernelspec": {
   "display_name": "Bash",
   "language": "bash",
   "name": "bash"
  },
  "language_info": {
   "codemirror_mode": "shell",
   "file_extension": ".sh",
   "mimetype": "text/x-sh",
   "name": "bash"
  },
  "orig_nbformat": 4
 },
 "nbformat": 4,
 "nbformat_minor": 2
}
